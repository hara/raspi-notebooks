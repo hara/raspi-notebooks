{
 "cells": [
  {
   "cell_type": "code",
   "execution_count": 1,
   "metadata": {},
   "outputs": [],
   "source": [
    "from time import sleep\n",
    "from RPi import GPIO\n",
    "\n",
    "GPIO.setmode(GPIO.BCM)\n",
    "GPIO.setup(4, GPIO.OUT)\n",
    "\n",
    "for i in range(5):\n",
    "    GPIO.output(4, GPIO.HIGH)\n",
    "    sleep(0.5)\n",
    "    GPIO.output(4, GPIO.LOW)\n",
    "    sleep(0.5)\n",
    "\n",
    "GPIO.cleanup()"
   ]
  },
  {
   "cell_type": "code",
   "execution_count": null,
   "metadata": {},
   "outputs": [],
   "source": []
  }
 ],
 "metadata": {
  "kernelspec": {
   "display_name": "Python 3",
   "language": "python",
   "name": "python3"
  },
  "language_info": {
   "codemirror_mode": {
    "name": "ipython",
    "version": 3
   },
   "file_extension": ".py",
   "mimetype": "text/x-python",
   "name": "python",
   "nbconvert_exporter": "python",
   "pygments_lexer": "ipython3",
   "version": "3.5.3"
  }
 },
 "nbformat": 4,
 "nbformat_minor": 2
}
